{
 "cells": [
  {
   "cell_type": "markdown",
   "metadata": {},
   "source": [
    "**Code Explanation and Learning Outcome**\n",
    "====================================================\n",
    "\n",
    "### Code Purpose\n",
    "\n",
    "This code is designed to print a matrix with a specified number of rows and columns, where each cell contains a number that increments from left to right and top to bottom.\n",
    "\n",
    "### Code Breakdown\n",
    "\n",
    "* The code first prompts the user to input the number of rows and columns they want in their matrix.\n",
    "* It then initializes a variable `i` to 1, which will be used to control the outer loop that iterates over each row.\n",
    "* The outer loop runs until `i` is greater than the number of rows.\n",
    "* Inside the outer loop, another variable `j` is initialized to 1, which controls the inner loop that iterates over each column.\n",
    "* The inner loop runs until `j` is greater than the number of columns.\n",
    "* Inside the inner loop, the current value of `j` is printed, followed by a space (`end = ' '`). This prints the numbers in each row on the same line.\n",
    "* After each inner loop iteration, `j` is incremented by 1.\n",
    "* After each outer loop iteration, `i` is incremented by 1, and a newline character (`print()`) is printed to move to the next line.\n",
    "\n",
    "### Learning Outcome\n",
    "\n",
    "* How to use nested loops to iterate over multiple dimensions (rows and columns)\n",
    "* How to use the `input()` function to get user input\n",
    "* How to use the `print()` function with the `end` parameter to print output on the same line\n",
    "* How to use variables to control loop iterations and print output in a specific format"
   ]
  },
  {
   "cell_type": "code",
   "execution_count": null,
   "metadata": {},
   "outputs": [],
   "source": [
    "rows = int(input('Rows:'))\n",
    "cols = int(input('Cols:'))\n",
    "i = 1\n",
    "while i <= rows:\n",
    "    j = 1\n",
    "    while j <= cols:\n",
    "        print ('*', end = ' ')\n",
    "        j = j + 1\n",
    "    i = i + 1\n",
    "    print()"
   ]
  },
  {
   "cell_type": "code",
   "execution_count": 13,
   "metadata": {},
   "outputs": [
    {
     "name": "stdout",
     "output_type": "stream",
     "text": [
      "1 1 1 1 1 1 \n",
      "2 2 2 2 2 2 \n",
      "3 3 3 3 3 3 \n",
      "4 4 4 4 4 4 \n"
     ]
    }
   ],
   "source": [
    "rows = int(input('Rows:'))\n",
    "cols = int(input('Cols:'))\n",
    "i = 1\n",
    "while i <= rows:\n",
    "    j = 1\n",
    "    while j <= cols:\n",
    "        print (j, end = ' ')\n",
    "        j = j + 1\n",
    "    i = i + 1\n",
    "    print()"
   ]
  },
  {
   "cell_type": "markdown",
   "metadata": {},
   "source": [
    "# Code Explanation: Incremental Number Grid\n",
    "\n",
    "This Python code generates a grid of incrementing numbers based on user input for rows and columns. Here's a breakdown:\n",
    "\n",
    "1. **User Input:**\n",
    "   - The user is prompted to enter the number of rows and columns:\n",
    "     ```python\n",
    "     rows = int(input('Rows:'))\n",
    "     cols = int(input('Cols:'))\n",
    "     ```\n",
    "\n",
    "2. **Initialization:**\n",
    "   - The variable `i` is initialized to 1 to start with the first row:\n",
    "     ```python\n",
    "     i = 1\n",
    "     ```\n",
    "\n",
    "3. **Outer Loop (Rows):**\n",
    "   - A `while` loop runs as long as `i` is less than or equal to the number of rows:\n",
    "     ```python\n",
    "     while i <= rows:\n",
    "     ```\n",
    "\n",
    "4. **Inner Loop (Columns):**\n",
    "   - Inside the outer loop, the variable `n` is initialized to 1, and `j` is set to `i` to start the number sequence for the row:\n",
    "     ```python\n",
    "     n = 1    \n",
    "     j = i\n",
    "     while n <= cols:\n",
    "     ```\n",
    "\n",
    "5. **Printing Logic:**\n",
    "   - Inside the inner loop, the current value of `j` is printed with a space to maintain numbers in the same line:\n",
    "     ```python\n",
    "     print(j, end=' ')\n",
    "     ```\n",
    "   - `j` is incremented to continue the sequence, and `n` is incremented to ensure the correct number of columns:\n",
    "     ```python\n",
    "     j = j + 1\n",
    "     n = n + 1\n",
    "     ```\n",
    "\n",
    "6. **Row Increment:**\n",
    "   - After the inner loop completes for a row, `i` is incremented to move to the next row, and `print()` is called to move to a new line:\n",
    "     ```python\n",
    "     i = i + 1\n",
    "     print()\n",
    "     ```\n",
    "\n",
    "7. **Output:**\n",
    "   - The code outputs a grid where each row starts with its row number and prints consecutive numbers up to the specified column count. This demonstrates the use of nested loops to create a structured output based on user input.\n"
   ]
  },
  {
   "cell_type": "code",
   "execution_count": 14,
   "metadata": {},
   "outputs": [
    {
     "name": "stdout",
     "output_type": "stream",
     "text": [
      "1 2 3 4 5 6 \n",
      "2 3 4 5 6 7 \n",
      "3 4 5 6 7 8 \n",
      "4 5 6 7 8 9 \n"
     ]
    }
   ],
   "source": [
    "rows = int(input('Rows:'))\n",
    "cols = int(input('Cols:'))\n",
    "i = 1\n",
    "while i <= rows:\n",
    "    n = 1    \n",
    "    j = i    \n",
    "    while n <= cols:\n",
    "        print (j, end = ' ')\n",
    "        j = j + 1\n",
    "        n = n + 1\n",
    "    i = i + 1\n",
    "    print()"
   ]
  },
  {
   "cell_type": "markdown",
   "metadata": {},
   "source": [
    "## Code Explanation\n",
    "\n",
    "### Purpose\n",
    "The purpose of this code is to demonstrate the use of functions, loops, and the main function in Python. It showcases how to define and call functions, as well as how to use `for` loops for iteration.\n",
    "\n",
    "### Code Details\n",
    "\n",
    "1. **Function Definition:**\n",
    "\n",
    "    - `def fun():`  \n",
    "      This function is named `fun` and, when called, it prints the message \"Have a fun\" to the console.\n",
    "\n",
    "2. **Main Function:**\n",
    "\n",
    "    - `def main():`  \n",
    "      The `main` function contains the core logic of the program. It serves as the entry point for execution.\n",
    "\n",
    "3. **For Loops:**\n",
    "\n",
    "    - `for i in range(5):`  \n",
    "      This loop iterates five times, calling the `fun` function each time, resulting in the message \"Have a fun\" being printed five times.\n",
    "\n",
    "    - `for i in range(6):`  \n",
    "      This loop iterates six times, printing the current loop index `i` (from 0 to 5) in each iteration.\n",
    "\n",
    "    - `fun()`  \n",
    "      After the loops, the `fun` function is called once more, printing \"Have a fun\" again.\n",
    "\n",
    "4. **Program Execution:**\n",
    "\n",
    "    - `main()`  \n",
    "      This line calls the `main` function to execute the program logic described above.\n",
    "\n",
    "### Learning Outcomes\n",
    "\n",
    "- **Understanding Functions:**  \n",
    "  Learn how to define and call functions in Python, recognizing their role in structuring code for reuse and readability.\n",
    "\n",
    "- **Looping Mechanisms:**  \n",
    "  Gain familiarity with `for` loops, using them to iterate over a sequence of numbers, and understanding the flow of loop execution.\n",
    "\n",
    "- **Program Structure:**  \n",
    "  See how a `main` function can be used as an entry point for the program, organizing code execution logically.\n",
    "\n",
    "- **Output and Execution Order:**  \n",
    "  Observe the order in which statements are executed and the corresponding output generated, helping to solidify the concept of execution flow in a Python program.\n"
   ]
  },
  {
   "cell_type": "code",
   "execution_count": 15,
   "metadata": {},
   "outputs": [
    {
     "name": "stdout",
     "output_type": "stream",
     "text": [
      "Have a fun\n"
     ]
    }
   ],
   "source": [
    "# Class Work\n",
    "def fun():\n",
    "    print ('Have a fun')\n",
    "\n",
    "fun()"
   ]
  },
  {
   "cell_type": "code",
   "execution_count": 16,
   "metadata": {},
   "outputs": [
    {
     "name": "stdout",
     "output_type": "stream",
     "text": [
      "Have a fun\n",
      "Have a fun\n",
      "Have a fun\n",
      "Have a fun\n",
      "Have a fun\n",
      "Have a fun\n",
      "Have a fun\n",
      "Have a fun\n",
      "Have a fun\n",
      "Have a fun\n"
     ]
    }
   ],
   "source": [
    "for i in range(10):\n",
    "    fun()"
   ]
  },
  {
   "cell_type": "code",
   "execution_count": 23,
   "metadata": {},
   "outputs": [],
   "source": [
    "def main ():\n",
    "    print(\"I am in main\")\n",
    "\n",
    "def alpha ():\n",
    "    print(\"I am in alpha\")\n",
    "    beta()\n",
    "\n",
    "def beta ():\n",
    "    print(\"I am in beta\")\n",
    "    gamma()\n",
    "\n",
    "def gamma ():\n",
    "    print(\"I am in gamma\")\n",
    "\n"
   ]
  },
  {
   "cell_type": "code",
   "execution_count": 21,
   "metadata": {},
   "outputs": [
    {
     "name": "stdout",
     "output_type": "stream",
     "text": [
      "I am in alpha\n",
      "I am in beta\n"
     ]
    }
   ],
   "source": [
    "alpha()"
   ]
  },
  {
   "cell_type": "code",
   "execution_count": 24,
   "metadata": {},
   "outputs": [
    {
     "name": "stdout",
     "output_type": "stream",
     "text": [
      "I am in alpha\n",
      "I am in beta\n",
      "I am in gamma\n"
     ]
    }
   ],
   "source": [
    "alpha()"
   ]
  },
  {
   "cell_type": "code",
   "execution_count": null,
   "metadata": {},
   "outputs": [],
   "source": [
    "def fun():\n",
    "    print ('Have a fun')\n",
    "\n",
    "def main():\n",
    "    for i in range(5):\n",
    "        fun()\n",
    "    for i in range(6):\n",
    "        print (i)\n",
    "    fun()\n",
    "\n",
    "main()"
   ]
  },
  {
   "cell_type": "markdown",
   "metadata": {},
   "source": [
    "## Code Explanation\n",
    "\n",
    "### Purpose\n",
    "The purpose of this code is to illustrate the use of functions and loops to format output with spaces. It demonstrates how to control the formatting of printed output by introducing leading spaces.\n",
    "\n",
    "### Code Details\n",
    "\n",
    "1. **Function Definition:**\n",
    "\n",
    "    - `def print_spaces(n):`  \n",
    "      This function, `print_spaces`, takes an integer `n` as an argument and prints `n` spaces on the same line. The `print(end=' ')` statement ensures that the spaces are printed without moving to a new line.\n",
    "\n",
    "2. **Main Function:**\n",
    "\n",
    "    - `def main():`  \n",
    "      The `main` function contains the main logic of the program. It is responsible for iterating over a range of numbers and formatting the output.\n",
    "\n",
    "3. **For Loop:**\n",
    "\n",
    "    - `for i in range(5):`  \n",
    "      This loop iterates over the numbers 0 to 4. In each iteration, it calls the `print_spaces` function to print a corresponding number of spaces (`i` spaces).\n",
    "\n",
    "    - `print(i+1)`  \n",
    "      After printing the spaces, it prints the number `i + 1`. This effectively aligns the numbers in a right-angled triangular format.\n",
    "\n",
    "4. **Program Execution:**\n",
    "\n",
    "    - `main()`  \n",
    "      This line calls the `main` function to execute the program logic.\n",
    "\n",
    "### Learning Outcomes\n",
    "\n",
    "- **Understanding Functions:**  \n",
    "  Learn how to define and use functions in Python to encapsulate specific behavior, such as printing a certain number of spaces.\n",
    "\n",
    "- **Looping and Formatting:**  \n",
    "  Gain experience with `for` loops and learn how they can be used to format output dynamically based on iteration variables.\n",
    "\n",
    "- **Output Alignment:**  \n",
    "  Understand how to control the alignment of output using spaces, allowing for more structured and readable printed results.\n",
    "\n",
    "- **Execution Flow:**  \n",
    "  Observe the sequence of function calls and loop iterations to better grasp the flow of execution in a Python program.\n"
   ]
  },
  {
   "cell_type": "code",
   "execution_count": 29,
   "metadata": {},
   "outputs": [
    {
     "name": "stdout",
     "output_type": "stream",
     "text": [
      "     "
     ]
    }
   ],
   "source": [
    "#Class work\n",
    "def print_spaces(n):\n",
    "    for i in range(n):\n",
    "        print (end=' ')\n",
    "\n",
    "print_spaces(5)"
   ]
  },
  {
   "cell_type": "code",
   "execution_count": 30,
   "metadata": {},
   "outputs": [
    {
     "name": "stdout",
     "output_type": "stream",
     "text": [
      "1\n",
      "2\n",
      "3\n",
      "4\n",
      "5\n"
     ]
    }
   ],
   "source": [
    "def main():\n",
    "    for i in range(5):\n",
    "        print(i+1)\n",
    "\n",
    "main()"
   ]
  },
  {
   "cell_type": "code",
   "execution_count": 34,
   "metadata": {},
   "outputs": [
    {
     "name": "stdout",
     "output_type": "stream",
     "text": [
      "1\n",
      "*2\n",
      "**3\n",
      "***4\n",
      "****5\n",
      "*****6\n",
      "******7\n",
      "*******8\n",
      "********9\n",
      "*********10\n",
      "**********11\n",
      "***********12\n",
      "************13\n",
      "*************14\n",
      "**************15\n",
      "***************16\n",
      "****************17\n",
      "*****************18\n",
      "******************19\n",
      "*******************20\n"
     ]
    }
   ],
   "source": [
    "def print_spaces(n):\n",
    "    for i in range(n):\n",
    "        print (end='*')\n",
    "\n",
    "def main():\n",
    "    for i in range(20):\n",
    "        print_spaces(i)\n",
    "        print(i+1)\n",
    "\n",
    "main()"
   ]
  },
  {
   "cell_type": "code",
   "execution_count": 37,
   "metadata": {},
   "outputs": [
    {
     "name": "stdout",
     "output_type": "stream",
     "text": [
      "1\n",
      "*2\n",
      "**3\n",
      "***4\n",
      "****5\n"
     ]
    }
   ],
   "source": [
    "\n",
    "for i in range(5):\n",
    "    for j in range(i):\n",
    "        print('*', end='')\n",
    "    print(i + 1)"
   ]
  },
  {
   "cell_type": "markdown",
   "metadata": {},
   "source": [
    "## Code Explanation\n",
    "\n",
    "### Purpose\n",
    "The purpose of this code is to demonstrate how to use functions and loops to create a specific output pattern. The code prints numbers in a pyramid-like format with dynamic spacing.\n",
    "\n",
    "### Code Details\n",
    "\n",
    "1. **Function Definition:**\n",
    "\n",
    "    - `def print_spaces(n):`  \n",
    "      This function, `print_spaces`, takes an integer `n` as an argument and prints `n` spaces. It uses the `print(end=' ')` statement to print spaces without moving to a new line.\n",
    "\n",
    "2. **Main Function:**\n",
    "\n",
    "    - `def main():`  \n",
    "      The `main` function orchestrates the logic of the program. It iterates over a range of numbers and formats the output into a pattern resembling a pyramid.\n",
    "\n",
    "3. **For Loop:**\n",
    "\n",
    "    - `for i in range(1, 6):`  \n",
    "      This loop iterates over the numbers 1 to 5. For each iteration, it uses the `print_spaces` function to print spaces before and after printing the number `i`.\n",
    "\n",
    "    - `print_spaces(i)`  \n",
    "      This prints `i` spaces before the first number `i`.\n",
    "\n",
    "    - `print(i, end='')`  \n",
    "      This prints the number `i` without moving to a new line.\n",
    "\n",
    "    - `print_spaces(10 - i*2)`  \n",
    "      This calculates and prints spaces between the two occurrences of the number `i`. The expression `10 - i*2` determines the number of spaces, creating the pyramid effect by decreasing spaces as `i` increases.\n",
    "\n",
    "    - `print(i)`  \n",
    "      This prints the number `i` again, completing the line with the pattern.\n",
    "\n",
    "4. **Program Execution:**\n",
    "\n",
    "    - `main()`  \n",
    "      This line calls the `main` function to execute the program logic.\n",
    "\n",
    "### Output Pattern\n",
    "The output is a symmetrical pattern where numbers are printed with decreasing spaces between them as `i` increases:\n",
    "\n"
   ]
  },
  {
   "cell_type": "code",
   "execution_count": 38,
   "metadata": {},
   "outputs": [
    {
     "name": "stdout",
     "output_type": "stream",
     "text": [
      " 1        1\n",
      "  2      2\n",
      "   3    3\n",
      "    4  4\n",
      "     55\n"
     ]
    }
   ],
   "source": [
    "def print_spaces(n):\n",
    "    for i in range(n):\n",
    "        print (end=' ')\n",
    "\n",
    "def main():\n",
    "    for i in range(1, 6):\n",
    "        print_spaces(i)\n",
    "        print(i, end='')\n",
    "        print_spaces(10 - i*2)\n",
    "        print(i)\n",
    "\n",
    "main()"
   ]
  },
  {
   "cell_type": "markdown",
   "metadata": {},
   "source": [
    "## Code Explanation\n",
    "\n",
    "### Purpose\n",
    "The purpose of this code is to demonstrate how to use functions and loops to create a right-aligned triangle pattern using spaces and asterisks (`*`). It showcases how to control output alignment and pattern creation using nested functions.\n",
    "\n",
    "### Code Details\n",
    "\n",
    "1. **Function Definitions:**\n",
    "\n",
    "    - `def print_spaces(n):`  \n",
    "      This function, `print_spaces`, takes an integer `n` as an argument and prints `n` spaces. It uses the `print(end=' ')` statement to ensure the spaces are printed on the same line without moving to a new line.\n",
    "\n",
    "    - `def print_stars(n):`  \n",
    "      This function, `print_stars`, takes an integer `n` as an argument and prints `n` asterisks. It uses the `print(end='*')` statement to print asterisks on the same line.\n",
    "\n",
    "2. **Main Function:**\n",
    "\n",
    "    - `def main():`  \n",
    "      The `main` function is responsible for generating the pattern. It iterates over a range of numbers to format and print the triangle pattern.\n",
    "\n",
    "3. **For Loop:**\n",
    "\n",
    "    - `for i in range(5):`  \n",
    "      This loop iterates over the numbers 0 to 4. In each iteration, it calls the `print_spaces` and `print_stars` functions to print the appropriate number of spaces and asterisks.\n",
    "\n",
    "    - `print_spaces(i)`  \n",
    "      This prints `i` spaces, causing the subsequent asterisks to be right-aligned.\n",
    "\n",
    "    - `print_stars(5-i)`  \n",
    "      This prints `5-i` asterisks, decreasing the number of asterisks printed as `i` increases, creating a right-aligned triangle pattern.\n",
    "\n",
    "    - `print()`  \n",
    "      This prints a newline after each row of spaces and asterisks, moving to the next line for the next iteration.\n",
    "\n",
    "4. **Program Execution:**\n",
    "\n",
    "    - `main()`  \n",
    "      This line calls the `main` function to execute the program logic.\n",
    "\n",
    "### Output Pattern\n",
    "The output is a right-aligned triangle of asterisks:\n",
    "\n"
   ]
  },
  {
   "cell_type": "markdown",
   "metadata": {},
   "source": [
    "\n",
    "### Learning Outcomes\n",
    "\n",
    "- **Function Utilization:**  \n",
    "  Learn to define and use functions to encapsulate repetitive tasks like printing spaces and asterisks.\n",
    "\n",
    "- **Output Formatting and Alignment:**  \n",
    "  Understand how to control the formatting of printed output using functions and loops to create aligned patterns.\n",
    "\n",
    "- **Pattern Creation:**  \n",
    "  Gain experience creating visual patterns through the use of loops, learning how to manipulate space and characters to achieve desired shapes.\n",
    "\n",
    "- **Iterative Logic:**  \n",
    "  Enhance understanding of how iteration works in Python, and how to adjust loop logic to influence the appearance of output patterns.\n",
    "\n",
    "- **Debugging and Flow Control:**  \n",
    "  Develop skills in debugging and flow control by observing the sequence of execution and making adjustments as needed to achieve the correct pattern.\n"
   ]
  },
  {
   "cell_type": "code",
   "execution_count": 39,
   "metadata": {},
   "outputs": [
    {
     "name": "stdout",
     "output_type": "stream",
     "text": [
      "*****\n",
      " ****\n",
      "  ***\n",
      "   **\n",
      "    *\n"
     ]
    }
   ],
   "source": [
    "def print_spaces(n):\n",
    "    for i in range(n):\n",
    "        print (end=' ')\n",
    "\n",
    "def print_stars(n):\n",
    "    for i in range(n):\n",
    "        print (end='*')\n",
    "\n",
    "def main():\n",
    "    for i in range(5):\n",
    "        print_spaces(i)\n",
    "        print_stars(5-i)\n",
    "        print()\n",
    "\n",
    "main()\n"
   ]
  },
  {
   "cell_type": "markdown",
   "metadata": {},
   "source": [
    "## Code Explanation\n",
    "\n",
    "### Purpose\n",
    "The purpose of this code is to demonstrate how to use functions and loops to print a series of increasing counting sequences. Each sequence starts from 1 and goes up to the current iteration number, creating a simple pattern of numbers.\n",
    "\n",
    "### Code Details\n",
    "\n",
    "1. **Function Definition:**\n",
    "\n",
    "    - `def print_counting(n):`  \n",
    "      This function, `print_counting`, takes an integer `n` as an argument and prints a sequence of numbers from 1 to `n`. The `print(i + 1, end=' ')` statement ensures each number is printed on the same line with a space in between.\n",
    "\n",
    "    - `print()`  \n",
    "      This statement is used to move to a new line after printing the sequence, ensuring each sequence appears on a separate line.\n",
    "\n",
    "2. **Main Function:**\n",
    "\n",
    "    - `def main():`  \n",
    "      The `main` function coordinates the logic of the program. It iterates over a range of numbers and calls the `print_counting` function to print each counting sequence.\n",
    "\n",
    "3. **For Loop:**\n",
    "\n",
    "    - `for i in range(1, 6):`  \n",
    "      This loop iterates over the numbers 1 to 5. For each iteration, it calls the `print_counting` function with `i` as the argument, printing a sequence of numbers from 1 to `i`.\n",
    "\n",
    "4. **Program Execution:**\n",
    "\n",
    "    - `main()`  \n",
    "      This line calls the `main` function to execute the program logic.\n",
    "\n",
    "### Output Pattern\n",
    "The output is a series of increasing counting sequences:\n",
    "\n"
   ]
  },
  {
   "cell_type": "markdown",
   "metadata": {},
   "source": [
    "\n",
    "### Learning Outcomes\n",
    "\n",
    "- **Function Utilization:**  \n",
    "  Learn how to define and use functions for repetitive tasks, such as printing sequences of numbers.\n",
    "\n",
    "- **Understanding Loops:**  \n",
    "  Gain experience using loops to control the flow of execution and create patterns by iterating over a range of numbers.\n",
    "\n",
    "- **Pattern Creation:**  \n",
    "  Understand how to create numerical patterns using loops and functions, enhancing skills in generating sequences and structured output.\n",
    "\n",
    "- **Flow Control and Debugging:**  \n",
    "  Observe how the execution of loops and functions interacts to produce the desired pattern, and practice debugging and adjusting code to achieve correct output.\n",
    "\n",
    "- **Program Structuring:**  \n",
    "  Learn to organize code into functions and a main routine, improving readability and maintainability by separating logic into discrete, reusable components.\n"
   ]
  },
  {
   "cell_type": "code",
   "execution_count": 40,
   "metadata": {},
   "outputs": [
    {
     "name": "stdout",
     "output_type": "stream",
     "text": [
      "1 \n",
      "1 2 \n",
      "1 2 3 \n",
      "1 2 3 4 \n",
      "1 2 3 4 5 \n"
     ]
    }
   ],
   "source": [
    "def print_counting(n):\n",
    "    for i in range(n):\n",
    "        print (i + 1, end=' ')\n",
    "    print()\n",
    "\n",
    "def main():\n",
    "    for i in range(1, 6):\n",
    "        print_counting(i)\n",
    "\n",
    "main()\n"
   ]
  },
  {
   "cell_type": "markdown",
   "metadata": {},
   "source": [
    "## Code Explanation\n",
    "\n",
    "### Purpose\n",
    "The purpose of this code is to calculate factorials of numbers using a custom function and demonstrate how to use the calculated values in expressions. It highlights the importance of storing intermediate results for efficient calculations and avoiding redundant computations.\n",
    "\n",
    "### Code Details\n",
    "\n",
    "1. **Factorial Function Definition:**\n",
    "\n",
    "    - `def fac(n):`  \n",
    "      This function, `fac`, takes an integer `n` as an argument and returns the factorial of `n`. The factorial of a number `n` is the product of all positive integers less than or equal to `n`.\n",
    "\n",
    "    - `if (n == 0): return 1`  \n",
    "      This condition checks if the input `n` is zero, in which case the function returns 1, since the factorial of 0 is defined as 1.\n",
    "\n",
    "    - `f = n`  \n",
    "      The variable `f` is initialized to `n`. This variable will store the result of the factorial calculation.\n",
    "\n",
    "    - `for i in range(n-1, 1, -1):`  \n",
    "      This loop iterates from `n-1` down to 2, multiplying the current value of `f` by each `i`, effectively computing the factorial by decrementing the value of `i` in each iteration.\n",
    "\n",
    "    - `return f`  \n",
    "      The function returns the computed factorial value `f`.\n",
    "\n",
    "2. **Printing and Calculating Factorials:**\n",
    "\n",
    "    - `print('6!= {fac(6)}')`  \n",
    "      This line attempts to print the factorial of 6 using an incorrect string formatting method. Instead of evaluating the expression inside curly braces, it prints it as a string literal. To print the factorial correctly, it should be written as `print(f'6!= {fac(6)}')`.\n",
    "\n",
    "    - `print('Fazool Statements')`  \n",
    "      These lines print the string \"Fazool Statements\" twice, serving no computational purpose.\n",
    "\n",
    "3. **Recalculation and Efficiency:**\n",
    "\n",
    "    - The comment explains the need to recalculate the factorial of 6 due to the previous incorrect print statement where the result was not stored.\n",
    "\n",
    "    - `factorial1 = fac(8)`  \n",
    "      This line calculates the factorial of 8 and stores the result in the variable `factorial1`.\n",
    "\n",
    "    - `factorial2 = fac(6)`  \n",
    "      This line calculates the factorial of 6 and stores the result in the variable `factorial2`.\n",
    "\n",
    "    - `res = factorial1/factorial2`  \n",
    "      This line calculates the result of dividing `factorial1` by `factorial2`, representing the expression \\(\\frac{8!}{6!}\\).\n",
    "\n",
    "    - `print(f'8!/6!= {factorial1/factorial2}')`  \n",
    "      This line prints the result of the division \\(\\frac{8!}{6!}\\) using the stored values of `factorial1` and `factorial2`.\n",
    "\n",
    "### Learning Outcomes\n",
    "\n",
    "- **Understanding Factorials:**  \n",
    "  Learn how to implement a function to calculate the factorial of a number using loops and conditionals.\n",
    "\n",
    "- **String Formatting:**  \n",
    "  Understand the importance of using correct string formatting methods in Python, such as f-strings, for evaluating expressions within strings.\n",
    "\n",
    "- **Efficient Computation:**  \n",
    "  Recognize the need to store intermediate results to avoid redundant calculations and improve program efficiency.\n",
    "\n",
    "- **Variable Usage:**  \n",
    "  Gain experience in storing and manipulating values in variables, emphasizing the need to correctly manage and use these values in expressions.\n",
    "\n",
    "- **Debugging and Code Organization:**  \n",
    "  Develop skills in debugging, identifying errors in code logic and formatting, and organizing code for better readability and maintainability.\n",
    "\n",
    "### Potential Improvements\n",
    "\n",
    "- **Correct String Formatting:**\n",
    "  Update the incorrect string formatting in `print('6!= {fac(6)}')` to `print(f'6!= {fac(6)}')`.\n",
    "\n",
    "- **Remove Unnecessary Prints:**\n",
    "  Consider removing the lines that print \"Fazool Statements\" if they do not serve a specific purpose in the final application.\n"
   ]
  },
  {
   "cell_type": "code",
   "execution_count": 41,
   "metadata": {},
   "outputs": [
    {
     "name": "stdout",
     "output_type": "stream",
     "text": [
      "6!= {fac(6)}\n",
      "Fazool Statements\n",
      "Fazool Statements\n",
      "8!/6!=56.0\n"
     ]
    }
   ],
   "source": [
    "def fac(n):\n",
    "    if (n == 0):\n",
    "        return 1\n",
    "    f = n\n",
    "    for i in range(n-1, 1, -1):\n",
    "        f *= i\n",
    "    return f\n",
    "\n",
    "print ('6!= {fac(6)}')\n",
    "print ('Fazool Statements')\n",
    "print ('Fazool Statements')\n",
    "#we have to recalculate factorial of 6, because in previous call, value is not saved into variable\n",
    "factorial1 = fac(8)\n",
    "factorial2 = fac(6)\n",
    "res = factorial1/factorial2\n",
    "print (f'8!/6!={factorial1/factorial2}')"
   ]
  },
  {
   "cell_type": "code",
   "execution_count": null,
   "metadata": {},
   "outputs": [],
   "source": []
  }
 ],
 "metadata": {
  "kernelspec": {
   "display_name": "Python 3",
   "language": "python",
   "name": "python3"
  },
  "language_info": {
   "codemirror_mode": {
    "name": "ipython",
    "version": 3
   },
   "file_extension": ".py",
   "mimetype": "text/x-python",
   "name": "python",
   "nbconvert_exporter": "python",
   "pygments_lexer": "ipython3",
   "version": "3.10.0rc2"
  }
 },
 "nbformat": 4,
 "nbformat_minor": 2
}
