{
 "cells": [
  {
   "cell_type": "markdown",
   "metadata": {},
   "source": [
    "# Introduction to File Handling in Python\n",
    "\n",
    "In this notebook, we will explore the basics of file handling in Python. File handling is an essential skill for any programmer, as it allows you to read from and write to files, enabling data storage and retrieval for various applications.\n",
    "\n",
    "## Writing to a File\n",
    "\n",
    "The first step in file handling is to open a file. Python provides the `open()` function to open a file. The `open()` function requires two arguments:\n",
    "1. The name of the file.\n",
    "2. The mode in which the file should be opened.\n",
    "\n",
    "Common file modes include:\n",
    "- `'r'`: Read mode, which is used to read the contents of a file.\n",
    "- `'w'`: Write mode, which is used to write data to a file. If the file does not exist, it will be created. If the file already exists, its contents will be truncated.\n",
    "- `'a'`: Append mode, which is used to add data to the end of the file without truncating its contents.\n",
    "- `'b'`: Binary mode, which is used for binary files (e.g., images, videos).\n",
    "\n",
    "In the following example, we will:\n",
    "1. Open a file named `first.txt` in write mode.\n",
    "2. Write a string of text to the file.\n",
    "3. Close the file to ensure that all data is properly saved.\n",
    "\n",
    "### Example Code\n",
    "```python\n",
    "# Open a file named 'abc.txt' in write mode\n",
    "file1 = open('first.txt', 'w')\n",
    "\n",
    "# Write a string of text to the file\n",
    "file1.write('Amazing we are writing in a text file')\n",
    "\n",
    "# Close the file\n",
    "file1.close()\n"
   ]
  },
  {
   "cell_type": "code",
   "execution_count": 5,
   "metadata": {},
   "outputs": [],
   "source": [
    "# Open a file named 'abc.txt' in write mode\n",
    "file1 = open('first.txt', 'w')\n",
    "\n",
    "# Write a string of text to the file\n",
    "file1.write('Amazing we are writing in text file')\n",
    "\n",
    "# Close the file\n",
    "file1.close()"
   ]
  },
  {
   "cell_type": "code",
   "execution_count": 9,
   "metadata": {},
   "outputs": [],
   "source": [
    "file1 = open('abc.txt','w')\n",
    "file2 = open('def.txt','w')\n",
    "file1.write('10\\n20\\n30\\n40\\n')\n",
    "file1.write('50\\n60\\n')\n",
    "file2.write('123\\n456\\n789\\n')\n",
    "file1.close()\n",
    "file2.close()\n"
   ]
  },
  {
   "cell_type": "code",
   "execution_count": 7,
   "metadata": {},
   "outputs": [
    {
     "ename": "ValueError",
     "evalue": "I/O operation on closed file.",
     "output_type": "error",
     "traceback": [
      "\u001b[1;31m---------------------------------------------------------------------------\u001b[0m",
      "\u001b[1;31mValueError\u001b[0m                                Traceback (most recent call last)",
      "Cell \u001b[1;32mIn[7], line 1\u001b[0m\n\u001b[1;32m----> 1\u001b[0m \u001b[43mfile1\u001b[49m\u001b[38;5;241;43m.\u001b[39;49m\u001b[43mwrite\u001b[49m\u001b[43m(\u001b[49m\u001b[38;5;124;43m'\u001b[39;49m\u001b[38;5;124;43m70\u001b[39;49m\u001b[38;5;130;43;01m\\n\u001b[39;49;00m\u001b[38;5;124;43m80\u001b[39;49m\u001b[38;5;130;43;01m\\n\u001b[39;49;00m\u001b[38;5;124;43m'\u001b[39;49m\u001b[43m)\u001b[49m\n",
      "\u001b[1;31mValueError\u001b[0m: I/O operation on closed file."
     ]
    }
   ],
   "source": [
    "file1.write('70\\n80\\n')"
   ]
  },
  {
   "cell_type": "code",
   "execution_count": 8,
   "metadata": {},
   "outputs": [],
   "source": [
    "file1 = open('abc.txt','w')\n",
    "file1.write('70\\n80\\n')\n",
    "file1.close()"
   ]
  },
  {
   "cell_type": "code",
   "execution_count": 10,
   "metadata": {},
   "outputs": [
    {
     "name": "stdout",
     "output_type": "stream",
     "text": [
      "10 20 30 40 50 60 "
     ]
    }
   ],
   "source": [
    "file1 = open('abc.txt','r')\n",
    "n=int(file1.readline())\n",
    "print(n, end=' ')\n",
    "n=int(file1.readline())\n",
    "print(n, end=' ')\n",
    "n=int(file1.readline())\n",
    "print(n, end=' ')\n",
    "n=int(file1.readline())\n",
    "print(n, end=' ')\n",
    "n=int(file1.readline())\n",
    "print(n, end=' ')\n",
    "n=int(file1.readline())\n",
    "print(n, end=' ')\n",
    "file1.close()\n",
    "\n"
   ]
  },
  {
   "cell_type": "code",
   "execution_count": 11,
   "metadata": {},
   "outputs": [
    {
     "name": "stdout",
     "output_type": "stream",
     "text": [
      "\n",
      "123 456 789 "
     ]
    }
   ],
   "source": [
    "print()\n",
    "file2 = open('def.txt','r')\n",
    "n=int(file2.readline())\n",
    "print(n, end=' ')\n",
    "n=int(file2.readline())\n",
    "print(n, end=' ')\n",
    "n=int(file2.readline())\n",
    "print(n, end=' ')\n",
    "file2.close()"
   ]
  },
  {
   "cell_type": "code",
   "execution_count": 13,
   "metadata": {},
   "outputs": [
    {
     "name": "stdout",
     "output_type": "stream",
     "text": [
      "256.36 "
     ]
    }
   ],
   "source": [
    "file1 = open('floats.txt','r')\n",
    "n=float(file1.readline())\n",
    "print(n, end=' ')\n",
    "file1.close()"
   ]
  },
  {
   "cell_type": "code",
   "execution_count": 16,
   "metadata": {},
   "outputs": [],
   "source": [
    "file1 = open('counting.txt','w')\n",
    "i=1\n",
    "while i <= 10:\n",
    "    file1.write(f'{i}\\n')#str(i)+'\\n'\n",
    "    i = i + 1\n",
    "file1.close()\n"
   ]
  },
  {
   "cell_type": "code",
   "execution_count": null,
   "metadata": {},
   "outputs": [],
   "source": [
    "file1 = open('counting.txt','r')\n",
    "i=1\n",
    "sum = 0\n",
    "while i <= 10:\n",
    "    sum = sum + int(file1.readline())\n",
    "    i = i + 1\n",
    "print(sum)\n",
    "file1.close()"
   ]
  },
  {
   "cell_type": "code",
   "execution_count": 17,
   "metadata": {},
   "outputs": [
    {
     "name": "stdout",
     "output_type": "stream",
     "text": [
      "2\n"
     ]
    }
   ],
   "source": [
    "file1 = open('counting.txt','r')\n",
    "count = int(file1.readline())\n",
    "i=1\n",
    "sum = 0\n",
    "while i <= count:\n",
    "    sum = sum + int(file1.readline().strip())\n",
    "    i = i + 1\n",
    "print(sum)\n",
    "file1.close()\n"
   ]
  },
  {
   "cell_type": "code",
   "execution_count": null,
   "metadata": {},
   "outputs": [],
   "source": []
  }
 ],
 "metadata": {
  "kernelspec": {
   "display_name": "Python 3",
   "language": "python",
   "name": "python3"
  },
  "language_info": {
   "codemirror_mode": {
    "name": "ipython",
    "version": 3
   },
   "file_extension": ".py",
   "mimetype": "text/x-python",
   "name": "python",
   "nbconvert_exporter": "python",
   "pygments_lexer": "ipython3",
   "version": "3.10.0rc2"
  }
 },
 "nbformat": 4,
 "nbformat_minor": 2
}
