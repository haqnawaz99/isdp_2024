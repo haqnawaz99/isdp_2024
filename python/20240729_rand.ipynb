{
 "cells": [
  {
   "cell_type": "markdown",
   "metadata": {},
   "source": [
    "# Introduction to `randint` in Python\n",
    "\n",
    "The `randint` function from Python's `random` module is used to generate random integers. This function is particularly useful when you need to introduce randomness into your program, such as for games, simulations, or random sampling.\n",
    "\n",
    "## Syntax\n",
    "```python\n",
    "random.randint(a, b)\n"
   ]
  },
  {
   "cell_type": "code",
   "execution_count": 5,
   "metadata": {},
   "outputs": [
    {
     "name": "stdout",
     "output_type": "stream",
     "text": [
      "2\n"
     ]
    }
   ],
   "source": [
    "from random import randint\n",
    "\n",
    "n = randint(1, 5)\n",
    "print(n)\n"
   ]
  },
  {
   "cell_type": "code",
   "execution_count": 10,
   "metadata": {},
   "outputs": [
    {
     "name": "stdout",
     "output_type": "stream",
     "text": [
      "2100\n"
     ]
    }
   ],
   "source": [
    "n = randint(1, 5100)\n",
    "print(n)"
   ]
  },
  {
   "cell_type": "code",
   "execution_count": 17,
   "metadata": {},
   "outputs": [
    {
     "name": "stdout",
     "output_type": "stream",
     "text": [
      "4\n"
     ]
    }
   ],
   "source": [
    "n = randint(1, 5)\n",
    "print(n)"
   ]
  },
  {
   "cell_type": "code",
   "execution_count": 18,
   "metadata": {},
   "outputs": [
    {
     "name": "stdout",
     "output_type": "stream",
     "text": [
      "4: Four\n"
     ]
    }
   ],
   "source": [
    "\n",
    "\n",
    "if n == 1:\n",
    "    print(f'{n}: One')\n",
    "elif n == 2:\n",
    "    print(f'{n}: Two')\n",
    "elif n == 3:\n",
    "    print(f'{n}: Three')\n",
    "elif n == 4:\n",
    "    print(f'{n}: Four')\n",
    "else:\n",
    "    print(f'{n}: Five')\n"
   ]
  },
  {
   "cell_type": "code",
   "execution_count": 21,
   "metadata": {},
   "outputs": [
    {
     "name": "stdout",
     "output_type": "stream",
     "text": [
      "Dice rolled: 2\n"
     ]
    }
   ],
   "source": [
    "dice_roll = randint(1, 6)\n",
    "print(f'Dice rolled: {dice_roll}')\n"
   ]
  },
  {
   "cell_type": "markdown",
   "metadata": {},
   "source": [
    "### Task1: Print 10 Different Values of Dice Roll Using a While Loop\n",
    "\n",
    "Write a program that simulates rolling a dice 10 times. Use a `while` loop to generate and print 10 different values of dice rolls.\n",
    "\n",
    "**Steps:**\n",
    "\n",
    "1. Initialize a counter to keep track of the number of rolls.\n",
    "2. Use a `while` loop to continue rolling the dice until you have rolled it 10 times.\n",
    "3. Generate a random number between 1 and 6 for each roll.\n",
    "4. Print the value of each dice roll.\n",
    "5. Increment the counter after each roll.\n"
   ]
  },
  {
   "cell_type": "code",
   "execution_count": null,
   "metadata": {},
   "outputs": [],
   "source": []
  },
  {
   "cell_type": "code",
   "execution_count": null,
   "metadata": {},
   "outputs": [],
   "source": [
    "from random import randint\n",
    "\n",
    "decision = randint(0, 1)\n",
    "if decision == 0:\n",
    "    print(\"Decision: Yes\")\n",
    "else:\n",
    "    print(\"Decision: No\")\n"
   ]
  },
  {
   "cell_type": "code",
   "execution_count": null,
   "metadata": {},
   "outputs": [],
   "source": [
    "n1 = randint(1, 100000)\n",
    "n2 = randint(1, 100000)\n",
    "n3 = randint(1, 100000)\n",
    "print (f'1. {n1}\\t2. {n2}\\t3. {n3}')\n",
    "\n"
   ]
  },
  {
   "cell_type": "markdown",
   "metadata": {},
   "source": [
    "### Task2: Find the Maximum Number from given values in previous cell\n",
    "\n",
    "Given three randomly generated integers, your task is to identify the maximum number and its position among the three.\n",
    "\n",
    "1. Three random integers (`n1`, `n2`, `n3`) are generated between 1 and 100,000.\n",
    "2. Print these three integers in a formatted string.\n",
    "3. Determine which of the three integers is the maximum.\n",
    "4. Print the maximum number and its position (1, 2, or 3).\n",
    "\n",
    "**Sample Output**\n",
    "\n",
    "Max Number is 90382 at position 2"
   ]
  },
  {
   "cell_type": "code",
   "execution_count": null,
   "metadata": {},
   "outputs": [],
   "source": []
  },
  {
   "cell_type": "markdown",
   "metadata": {},
   "source": [
    "### Task3: Print Range of Numbers Between Two Random Integers\n",
    "\n",
    "Write a Python program that generates two random integers `n1` and `n2` between 1 and 100. The program should then print all the numbers between `n1` and `n2` (inclusive) in ascending order.\n",
    "\n",
    "**Steps:**\n",
    "\n",
    "1. Generate two random integers `n1` and `n2` between 1 and 100.\n",
    "2. Print the values of `n1` and `n2` to verify the generated numbers.\n",
    "3. Use a `while` loop to print all the numbers between the smaller and the larger of the two integers in ascending order.\n",
    "\n",
    "**Sample output**\n",
    "\n",
    "N1: 26 &nbsp;&nbsp;&nbsp;&nbsp; N2: 18 &nbsp;&nbsp;&nbsp;&nbsp; N1 & N2 are printing to check the code only\n",
    "\n",
    "18 19 20 21 22 23 24 25 26\n",
    " "
   ]
  },
  {
   "cell_type": "code",
   "execution_count": null,
   "metadata": {},
   "outputs": [],
   "source": []
  },
  {
   "cell_type": "markdown",
   "metadata": {},
   "source": [
    "### Task4: Print Range of Numbers Between Two Random Integers in Ascending Order\n",
    "\n",
    "Write a Python program that generates two random integers `n1` and `n2` between 1 and 100. The program should print all the numbers between the two integers (inclusive) in ascending order, regardless of which integer is larger.\n",
    "\n",
    "**Steps:**\n",
    "\n",
    "1. Generate two random integers `n1` and `n2` between 1 and 100.\n",
    "2. Print the values of `n1` and `n2` to verify the generated numbers.\n",
    "3. Ensure that the smaller integer is always `n1` and the larger is `n2`.\n",
    "4. Use a `while` loop to print all the numbers from `n1` to `n2` (inclusive) in ascending order.\n",
    "\n",
    "**Sample Output**\n",
    "\n",
    "N1: 58&nbsp;&nbsp;&nbsp;&nbsp;N2: 34&nbsp;&nbsp;&nbsp;&nbsp;N1 & N2 are printing to check the code only\n",
    "\n",
    "34 35 36 37 38 39 40 41 42 43 44 45 46 47 48 49 50 51 52 53 54 55 56 57 58\n",
    "\n"
   ]
  },
  {
   "cell_type": "code",
   "execution_count": null,
   "metadata": {},
   "outputs": [],
   "source": []
  },
  {
   "cell_type": "markdown",
   "metadata": {},
   "source": [
    "### Task5: Print Multiplication Table with Random Start and End Values\n",
    "\n",
    "Write a Python program that generates a random multiplication table for a number between 1 and 100. The program should also randomly determine the start and end values for the multiplication table.\n",
    "\n",
    "**Steps:**\n",
    "\n",
    "1. Generate a random integer `table_no` between 1 and 100 to represent the multiplication table number.\n",
    "2. Generate a random integer `start` between 1 and 10 to represent the starting value of the multiplication table.\n",
    "3. Generate a random integer `end` between 11 and 20 to represent the ending value of the multiplication table. Ensure that `end` is greater than `start`.\n",
    "4. Print the table number, start value, and end value for verification.\n",
    "5. Use a `while` loop to print the multiplication table from the `start` value to the `end` value.\n",
    "\n",
    "**Sample Output**\n",
    "\n",
    "Table Number: 67  \n",
    "Start: 67  \n",
    "End: 75  \n",
    "\n",
    "67    *    67    =    4489  \n",
    "67    *    68    =    4556  \n",
    "67    *    69    =    4623  \n",
    "67    *    70    =    4690  \n",
    "67    *    71    =    4757  \n",
    "67    *    72    =    4824  \n",
    "67    *    73    =    4891  \n",
    "67    *    74    =    4958  \n",
    "67    *    75    =    5025  \n"
   ]
  },
  {
   "cell_type": "code",
   "execution_count": null,
   "metadata": {},
   "outputs": [],
   "source": []
  },
  {
   "cell_type": "code",
   "execution_count": null,
   "metadata": {},
   "outputs": [],
   "source": []
  }
 ],
 "metadata": {
  "kernelspec": {
   "display_name": "Python 3",
   "language": "python",
   "name": "python3"
  },
  "language_info": {
   "codemirror_mode": {
    "name": "ipython",
    "version": 3
   },
   "file_extension": ".py",
   "mimetype": "text/x-python",
   "name": "python",
   "nbconvert_exporter": "python",
   "pygments_lexer": "ipython3",
   "version": "3.10.0rc2"
  }
 },
 "nbformat": 4,
 "nbformat_minor": 2
}
